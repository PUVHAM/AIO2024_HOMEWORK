{
 "cells": [
  {
   "cell_type": "code",
   "execution_count": 1,
   "metadata": {},
   "outputs": [
    {
     "name": "stderr",
     "output_type": "stream",
     "text": [
      "Downloading...\n",
      "From: https://drive.google.com/uc?id=1IBScGdW2xlNsc9v5zSAya548kNgiOrko\n",
      "To: c:\\Users\\Admin\\OneDrive - xzxwdg\\Documents\\Git\\AIO2024_HOMEWORK\\Module 1\\Week_2\\P1_data.txt\n",
      "\n",
      "  0%|          | 0.00/747 [00:00<?, ?B/s]\n",
      "100%|██████████| 747/747 [00:00<?, ?B/s] \n"
     ]
    }
   ],
   "source": [
    "!gdown https://drive.google.com/uc?id=1IBScGdW2xlNsc9v5zSAya548kNgiOrko\n",
    "file_path = './P1_data.txt'"
   ]
  },
  {
   "cell_type": "code",
   "execution_count": 2,
   "metadata": {},
   "outputs": [],
   "source": [
    "def word_count(file_path):\n",
    "    with open(file_path, 'r') as file:\n",
    "        text = file.read().replace('\\n', ' ').lower()\n",
    "    lst = text.split()\n",
    "    word_dict = {}\n",
    "    for word in lst:\n",
    "        if word in word_dict:\n",
    "            word_dict[word] += 1\n",
    "        else:\n",
    "            word_dict[word] = 1\n",
    "            \n",
    "    return word_dict\n",
    "\n",
    "def sort_dict_by_value_and_key(d):\n",
    "    sorted_dict = dict(sorted(d.items(), key=lambda item: (item[1], item[0])))\n",
    "    return sorted_dict"
   ]
  },
  {
   "cell_type": "code",
   "execution_count": 3,
   "metadata": {},
   "outputs": [
    {
     "name": "stdout",
     "output_type": "stream",
     "text": [
      "{'again': 1, 'and': 1, 'are': 1, 'at': 1, 'be': 1, 'bricks': 1, 'busy': 1, 'but': 1, 'came': 1, 'cannot': 1, 'change': 1, 'conquers': 1, 'courage': 1, 'day': 1, 'different': 1, 'employed': 1, 'enough': 1, 'everything': 1, 'firm': 1, 'foundation': 1, 'from': 1, 'have': 1, 'he': 1, 'help': 1, 'him': 1, 'himself': 1, 'if': 1, 'kind': 1, 'lay': 1, 'looking': 1, 'majority': 1, 'makes': 1, 'mightiest': 1, 'mistakes': 1, 'morning': 1, 'not': 1, 'opportunity': 1, 'other': 1, 'others': 1, 'people': 1, 'positive': 1, 'problems': 1, 'profit': 1, 'rather': 1, 'ready': 1, 'secret': 1, 'small': 1, 'solve': 1, 'them': 1, 'they': 1, 'thinking': 1, 'those': 1, 'thought': 1, 'thrown': 1, 'too': 1, 'up': 1, 'usually': 1, 'value': 1, 'warrior': 1, 'way': 1, 'what': 1, 'whole': 1, 'your': 1, 'become': 2, 'comes': 2, 'get': 2, 'his': 2, 'it': 2, 'just': 2, 'life': 2, 'successful': 2, 'try': 2, 'want': 2, 'when': 2, 'will': 2, 'can': 3, 'for': 3, 'is': 3, 'success': 3, 'to': 3, 'we': 3, 'who': 3, 'you': 3, 'in': 4, 'of': 4, 'one': 4, 'with': 4, 'the': 5, 'man': 6, 'a': 7}\n"
     ]
    }
   ],
   "source": [
    "print(sort_dict_by_value_and_key(word_count(file_path)))"
   ]
  }
 ],
 "metadata": {
  "kernelspec": {
   "display_name": "Python 3",
   "language": "python",
   "name": "python3"
  },
  "language_info": {
   "codemirror_mode": {
    "name": "ipython",
    "version": 3
   },
   "file_extension": ".py",
   "mimetype": "text/x-python",
   "name": "python",
   "nbconvert_exporter": "python",
   "pygments_lexer": "ipython3",
   "version": "3.11.9"
  }
 },
 "nbformat": 4,
 "nbformat_minor": 2
}
